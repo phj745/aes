{
 "cells": [
  {
   "cell_type": "code",
   "execution_count": 33,
   "id": "6d31d3d9-4336-4d31-8e01-a947b093eef7",
   "metadata": {},
   "outputs": [],
   "source": [
    "import pandas as pd\n",
    "df=pd.read_csv('../../data/AES/fold0/val_qwen2.5-7b_full_sft_3epoch.csv')"
   ]
  },
  {
   "cell_type": "code",
   "execution_count": 56,
   "id": "080829db-055d-4147-b84d-43cfd0d50cea",
   "metadata": {},
   "outputs": [
    {
     "data": {
      "text/html": [
       "<div>\n",
       "<style scoped>\n",
       "    .dataframe tbody tr th:only-of-type {\n",
       "        vertical-align: middle;\n",
       "    }\n",
       "\n",
       "    .dataframe tbody tr th {\n",
       "        vertical-align: top;\n",
       "    }\n",
       "\n",
       "    .dataframe thead th {\n",
       "        text-align: right;\n",
       "    }\n",
       "</style>\n",
       "<table border=\"1\" class=\"dataframe\">\n",
       "  <thead>\n",
       "    <tr style=\"text-align: right;\">\n",
       "      <th></th>\n",
       "      <th>essay_id</th>\n",
       "      <th>full_text</th>\n",
       "      <th>score</th>\n",
       "      <th>truncated_text</th>\n",
       "      <th>fold</th>\n",
       "      <th>pred</th>\n",
       "      <th>reason</th>\n",
       "    </tr>\n",
       "  </thead>\n",
       "  <tbody>\n",
       "    <tr>\n",
       "      <th>0</th>\n",
       "      <td>000d118</td>\n",
       "      <td>Many people have car where they live. The thin...</td>\n",
       "      <td>3</td>\n",
       "      <td>Many people have car where they live. The thin...</td>\n",
       "      <td>3</td>\n",
       "      <td>1. Mastery: 4/6 - The essay shows a good under...</td>\n",
       "      <td>\\n1. Mastery: The essay demonstrates a good un...</td>\n",
       "    </tr>\n",
       "    <tr>\n",
       "      <th>1</th>\n",
       "      <td>001ab80</td>\n",
       "      <td>People always wish they had the same technolog...</td>\n",
       "      <td>4</td>\n",
       "      <td>People always wish they had the same technolog...</td>\n",
       "      <td>4</td>\n",
       "      <td>1\\n2The essay effectively communicates the aut...</td>\n",
       "      <td>\\n1. Mastery: The essay demonstrates a good un...</td>\n",
       "    </tr>\n",
       "    <tr>\n",
       "      <th>2</th>\n",
       "      <td>001bdc0</td>\n",
       "      <td>We all heard about Venus, the planet without a...</td>\n",
       "      <td>4</td>\n",
       "      <td>We all heard about Venus, the planet without a...</td>\n",
       "      <td>1</td>\n",
       "      <td>1. Mastery: The essay demonstrates a strong un...</td>\n",
       "      <td>\\n1. **Mastery**: The essay discusses the cond...</td>\n",
       "    </tr>\n",
       "    <tr>\n",
       "      <th>3</th>\n",
       "      <td>002ba53</td>\n",
       "      <td>Dear, State Senator\\n\\nThis is a letter to arg...</td>\n",
       "      <td>3</td>\n",
       "      <td>Dear, State Senator\\n\\nThis is a letter to arg...</td>\n",
       "      <td>1</td>\n",
       "      <td>1. Mastery: The essay shows a good understandi...</td>\n",
       "      <td>\\n1. **Mastery**: The essay demonstrates a goo...</td>\n",
       "    </tr>\n",
       "    <tr>\n",
       "      <th>4</th>\n",
       "      <td>0030e86</td>\n",
       "      <td>If I were to choose between keeping the electo...</td>\n",
       "      <td>4</td>\n",
       "      <td>If I were to choose between keeping the electo...</td>\n",
       "      <td>3</td>\n",
       "      <td>1. Mastery: The essay demonstrates a clear und...</td>\n",
       "      <td>\\n1. **Mastery**: The essay demonstrates a cle...</td>\n",
       "    </tr>\n",
       "    <tr>\n",
       "      <th>...</th>\n",
       "      <td>...</td>\n",
       "      <td>...</td>\n",
       "      <td>...</td>\n",
       "      <td>...</td>\n",
       "      <td>...</td>\n",
       "      <td>...</td>\n",
       "      <td>...</td>\n",
       "    </tr>\n",
       "    <tr>\n",
       "      <th>13840</th>\n",
       "      <td>ffcb061</td>\n",
       "      <td>Becoming a Seagoing Cowboy is a once in a life...</td>\n",
       "      <td>3</td>\n",
       "      <td>Becoming a Seagoing Cowboy is a once in a life...</td>\n",
       "      <td>2</td>\n",
       "      <td>1. Mastery: 4/6 - The essay demonstrates a goo...</td>\n",
       "      <td>\\n1. Mastery: The essay demonstrates a good un...</td>\n",
       "    </tr>\n",
       "    <tr>\n",
       "      <th>13841</th>\n",
       "      <td>ffd378d</td>\n",
       "      <td>the story \" The Challenge of Exploing Venus \" ...</td>\n",
       "      <td>2</td>\n",
       "      <td>the story \" The Challenge of Exploing Venus \" ...</td>\n",
       "      <td>1</td>\n",
       "      <td>1. Mastery: 4/6 - The essay provides a good ov...</td>\n",
       "      <td>\\n1. Mastery: The essay provides a detailed an...</td>\n",
       "    </tr>\n",
       "    <tr>\n",
       "      <th>13842</th>\n",
       "      <td>ffddf1f</td>\n",
       "      <td>Technology has changed a lot of ways that we l...</td>\n",
       "      <td>4</td>\n",
       "      <td>Technology has changed a lot of ways that we l...</td>\n",
       "      <td>3</td>\n",
       "      <td>1. Mastery: The essay demonstrates a good unde...</td>\n",
       "      <td>\\n1. **Mastery**: The essay demonstrates a goo...</td>\n",
       "    </tr>\n",
       "    <tr>\n",
       "      <th>13843</th>\n",
       "      <td>fff016d</td>\n",
       "      <td>If you don't like sitting around all day than ...</td>\n",
       "      <td>2</td>\n",
       "      <td>If you don't like sitting around all day than ...</td>\n",
       "      <td>4</td>\n",
       "      <td>1. **Mastery**: The essay shows a good underst...</td>\n",
       "      <td>\\n1. **Mastery**: The essay demonstrates a goo...</td>\n",
       "    </tr>\n",
       "    <tr>\n",
       "      <th>13844</th>\n",
       "      <td>fffb49b</td>\n",
       "      <td>In \"The Challenge of Exporing Venus,\" the auth...</td>\n",
       "      <td>1</td>\n",
       "      <td>In \"The Challenge of Exporing Venus,\" the auth...</td>\n",
       "      <td>2</td>\n",
       "      <td>1. Mastery: High\\n2. Point of View: Balanced a...</td>\n",
       "      <td>\\n1. **Mastery**: The essay demonstrates a hig...</td>\n",
       "    </tr>\n",
       "  </tbody>\n",
       "</table>\n",
       "<p>13845 rows × 7 columns</p>\n",
       "</div>"
      ],
      "text/plain": [
       "      essay_id                                          full_text  score  \\\n",
       "0      000d118  Many people have car where they live. The thin...      3   \n",
       "1      001ab80  People always wish they had the same technolog...      4   \n",
       "2      001bdc0  We all heard about Venus, the planet without a...      4   \n",
       "3      002ba53  Dear, State Senator\\n\\nThis is a letter to arg...      3   \n",
       "4      0030e86  If I were to choose between keeping the electo...      4   \n",
       "...        ...                                                ...    ...   \n",
       "13840  ffcb061  Becoming a Seagoing Cowboy is a once in a life...      3   \n",
       "13841  ffd378d  the story \" The Challenge of Exploing Venus \" ...      2   \n",
       "13842  ffddf1f  Technology has changed a lot of ways that we l...      4   \n",
       "13843  fff016d  If you don't like sitting around all day than ...      2   \n",
       "13844  fffb49b  In \"The Challenge of Exporing Venus,\" the auth...      1   \n",
       "\n",
       "                                          truncated_text  fold  \\\n",
       "0      Many people have car where they live. The thin...     3   \n",
       "1      People always wish they had the same technolog...     4   \n",
       "2      We all heard about Venus, the planet without a...     1   \n",
       "3      Dear, State Senator\\n\\nThis is a letter to arg...     1   \n",
       "4      If I were to choose between keeping the electo...     3   \n",
       "...                                                  ...   ...   \n",
       "13840  Becoming a Seagoing Cowboy is a once in a life...     2   \n",
       "13841  the story \" The Challenge of Exploing Venus \" ...     1   \n",
       "13842  Technology has changed a lot of ways that we l...     3   \n",
       "13843  If you don't like sitting around all day than ...     4   \n",
       "13844  In \"The Challenge of Exporing Venus,\" the auth...     2   \n",
       "\n",
       "                                                    pred  \\\n",
       "0      1. Mastery: 4/6 - The essay shows a good under...   \n",
       "1      1\\n2The essay effectively communicates the aut...   \n",
       "2      1. Mastery: The essay demonstrates a strong un...   \n",
       "3      1. Mastery: The essay shows a good understandi...   \n",
       "4      1. Mastery: The essay demonstrates a clear und...   \n",
       "...                                                  ...   \n",
       "13840  1. Mastery: 4/6 - The essay demonstrates a goo...   \n",
       "13841  1. Mastery: 4/6 - The essay provides a good ov...   \n",
       "13842  1. Mastery: The essay demonstrates a good unde...   \n",
       "13843  1. **Mastery**: The essay shows a good underst...   \n",
       "13844  1. Mastery: High\\n2. Point of View: Balanced a...   \n",
       "\n",
       "                                                  reason  \n",
       "0      \\n1. Mastery: The essay demonstrates a good un...  \n",
       "1      \\n1. Mastery: The essay demonstrates a good un...  \n",
       "2      \\n1. **Mastery**: The essay discusses the cond...  \n",
       "3      \\n1. **Mastery**: The essay demonstrates a goo...  \n",
       "4      \\n1. **Mastery**: The essay demonstrates a cle...  \n",
       "...                                                  ...  \n",
       "13840  \\n1. Mastery: The essay demonstrates a good un...  \n",
       "13841  \\n1. Mastery: The essay provides a detailed an...  \n",
       "13842  \\n1. **Mastery**: The essay demonstrates a goo...  \n",
       "13843  \\n1. **Mastery**: The essay demonstrates a goo...  \n",
       "13844  \\n1. **Mastery**: The essay demonstrates a hig...  \n",
       "\n",
       "[13845 rows x 7 columns]"
      ]
     },
     "execution_count": 56,
     "metadata": {},
     "output_type": "execute_result"
    }
   ],
   "source": [
    "df"
   ]
  },
  {
   "cell_type": "code",
   "execution_count": 46,
   "id": "bfc898bd-9b09-41ad-96e7-86c546de5e8a",
   "metadata": {},
   "outputs": [],
   "source": [
    "df=df[df['pred']!=df['score']]"
   ]
  },
  {
   "cell_type": "code",
   "execution_count": 47,
   "id": "3c91b8e7-e0b1-4b28-86fd-a496f9b50830",
   "metadata": {},
   "outputs": [
    {
     "data": {
      "text/plain": [
       "1287"
      ]
     },
     "execution_count": 47,
     "metadata": {},
     "output_type": "execute_result"
    }
   ],
   "source": [
    "len(df['pred'])"
   ]
  },
  {
   "cell_type": "code",
   "execution_count": 63,
   "id": "d6033121-3cb5-4e3e-b712-55cc2cce252c",
   "metadata": {},
   "outputs": [
    {
     "data": {
      "text/plain": [
       "13845"
      ]
     },
     "execution_count": 63,
     "metadata": {},
     "output_type": "execute_result"
    }
   ],
   "source": [
    "df=pd.read_csv('../../data/AES/fold0/train_Qwen2.5-72B-Instruct.csv')\n",
    "len(df)"
   ]
  },
  {
   "cell_type": "code",
   "execution_count": 34,
   "id": "914eb957-17dc-4831-aea9-46f119fcb745",
   "metadata": {},
   "outputs": [],
   "source": [
    "gt=pd.read_csv('../../data/AES/fold0/train_Qwen2.5-72B-Instruct.csv')\n",
    "gt=gt[gt['pred_gt'].apply(lambda x:str(x).replace('\\n','').strip())==gt['score'].apply(lambda x:str(x))]\n",
    "gt['preferred']=gt['reason_gt']"
   ]
  },
  {
   "cell_type": "code",
   "execution_count": 14,
   "id": "d7461b2a-1520-44d3-9ae4-308c94298fb8",
   "metadata": {},
   "outputs": [],
   "source": [
    "\n",
    "full=pd.read_csv('../../data/AES/fold0/train_qwen2.5-7b_full_sft_3epoch.csv')\n",
    "full=full[full['pred']!=full['score']]\n",
    "lora=pd.read_csv('../../data/AES/fold0/train_qwen2.5-7b_lora_sft_1epoch.csv')\n",
    "lora=lora[lora['pred']!=lora['score']]\n",
    "b7=pd.read_csv('../../data/AES/fold0/train_Qwen2.5-7B-Instruct.csv')\n",
    "b7=b7[b7['pred']!=b7['score']]"
   ]
  },
  {
   "cell_type": "code",
   "execution_count": 15,
   "id": "fcd0d6d0-7f19-4086-a6da-6967386a77b0",
   "metadata": {},
   "outputs": [],
   "source": [
    "def update_rejected(gt: pd.DataFrame, *sources: pd.DataFrame) -> pd.DataFrame:\n",
    "    \"\"\"\n",
    "    将多个 source DataFrame 中的 reason 按 essay_id 映射到 gt['rejected']。\n",
    "    后面的 source 不会覆盖前面已填充的 rejected 值。\n",
    "    \n",
    "    Parameters:\n",
    "    - gt: 目标 DataFrame，包含 'essay_id' 和 'rejected' 列\n",
    "    - *sources: 任意个包含 'essay_id' 和 'reason' 列的 DataFrame\n",
    "    \n",
    "    Returns:\n",
    "    - 更新后的 gt（原地更新，也返回以便链式使用）\n",
    "    \"\"\"\n",
    "    if 'rejected' not in gt.columns:\n",
    "        gt['rejected'] = None\n",
    "\n",
    "    filled_ids = set(gt.loc[gt['rejected'].notna(), 'essay_id'])\n",
    "\n",
    "    for src in sources:\n",
    "        # 过滤出尚未填过 rejected 的 essay_id\n",
    "        src_filtered = src[~src['essay_id'].isin(filled_ids)]\n",
    "\n",
    "        # 构建映射并更新\n",
    "        reason_map = dict(zip(src_filtered['essay_id'], src_filtered['reason']))\n",
    "        mask = gt['essay_id'].isin(reason_map.keys())\n",
    "        gt.loc[mask, 'rejected'] = gt.loc[mask, 'essay_id'].map(reason_map)\n",
    "\n",
    "        # 更新已填的 id\n",
    "        filled_ids.update(reason_map.keys())\n",
    "\n",
    "    return gt"
   ]
  },
  {
   "cell_type": "code",
   "execution_count": 16,
   "id": "18f29fd1-a0a1-4818-8139-950533420009",
   "metadata": {},
   "outputs": [],
   "source": [
    "\n",
    "\n",
    "# 更新 rejected\n",
    "gt = update_rejected(gt, full)\n",
    "\n",
    "# 后续你还可以继续：\n",
    "# gt = update_rejected(gt, another_source1, another_source2)"
   ]
  },
  {
   "cell_type": "code",
   "execution_count": 19,
   "id": "bf2107d1-6fec-4bba-bbbe-a1185d5504ff",
   "metadata": {},
   "outputs": [
    {
     "data": {
      "text/plain": [
       "4386"
      ]
     },
     "execution_count": 19,
     "metadata": {},
     "output_type": "execute_result"
    }
   ],
   "source": [
    "len(gt)"
   ]
  },
  {
   "cell_type": "code",
   "execution_count": 11,
   "id": "064727df-4108-48f5-8d17-7bae9e9f448e",
   "metadata": {},
   "outputs": [
    {
     "data": {
      "text/plain": [
       "'<think>\\n1. **Mastery**: The essay demonstrates a clear understanding of the topic and presents a coherent argument against the development of driverless cars. However, the argument is somewhat repetitive and lacks depth in exploring all potential risks and solutions. The essay does not show the clear, consistent mastery that would warrant a score of 5 or 6. The essay is competent but with noticeable lapses in the depth of analysis and exploration of alternative solutions.\\n\\n2. **Point of view**: The essay presents a clear point of view against the development of driverless cars, supported by a point of view that is clear but underdeveloped. The essay argues that the development of these cars is weak or underdeveloped. The essay argues that the development of driverless cars is weak or underdeveloped. For example, the essay mentions the lack of relevant evidence and support from source texts, such as the lack of evidence from source texts, which is a clear point of view but not deeply explored. The essay argues that the evidence from source texts is weak or underdeveloped, which is a clear point of view but not well-supported. The essay argues that the evidence from source texts is weak or underdeveloped, with the lack of relevant evidence and support. The essay argues that the evidence from source texts is insufficient, which is a clear point of view but not well-supported. The essay argues that the evidence from source texts is weak, which is a clear point of view but not well-supported.\\n\\n3. **Structure**: The essay is generally well-organized, with a clear introduction, body, and conclusion. However, the structure is somewhat repetitive and lacks a logical flow. The essay could benefit from a more varied and sophisticated structure. The essay is mostly organized and focused, but the flow is somewhat uneven, with some repetition and lack of coherence.\\n\\n4. **Errors**: The essay has a few minor errors in grammar and punctuation, but they do not significantly detract from the overall clarity of the argument. The language use is acceptable, with some errors or repetition, but it is not sophisticated. The essay has some errors or repetition, but the language is generally clear and understandable.\\n</think>\\n<conclusion>\\n4\\n</conclusion>'"
      ]
     },
     "execution_count": 11,
     "metadata": {},
     "output_type": "execute_result"
    }
   ],
   "source": [
    "gt['preferred'].iloc[0]"
   ]
  },
  {
   "cell_type": "code",
   "execution_count": 18,
   "id": "3398244f-ebc2-4bae-972a-0ee06499d3e5",
   "metadata": {},
   "outputs": [],
   "source": [
    "gt=gt[~gt['rejected'].isna()]"
   ]
  },
  {
   "cell_type": "code",
   "execution_count": 200,
   "id": "82051379-2e6f-46b8-8a2d-414bf4db6d70",
   "metadata": {},
   "outputs": [],
   "source": [
    "\n",
    "gt.to_csv('../../data/AES/fold0/dpo_val_v1.csv')"
   ]
  },
  {
   "cell_type": "code",
   "execution_count": 12,
   "id": "b087627e-a413-41ee-a98d-66113d6ecacf",
   "metadata": {},
   "outputs": [],
   "source": [
    "gt.to_csv('../../data/AES/fold0/dpo_train_v1.csv')"
   ]
  },
  {
   "cell_type": "code",
   "execution_count": 32,
   "id": "ef85ca08-1489-4b9f-8304-56eb7cbf228d",
   "metadata": {},
   "outputs": [
    {
     "data": {
      "text/plain": [
       "'..ade essay essay essay of... essay essay essay essay essay essay essay essay essay essayates......thinkinkinkinkinkinkinkinkinkinkinkinkinkinkinkinkinkinkinkinkinkinkinkinkinkinkinkinkinkinkinkinkinkinkinkinkinkinkinkinkinkinkinkinkinkinkinkinkinkinkinkinkinkinkinkinkinkinkinkinkinkinkinkinkinkinkinkinkinkinkinkinkinkinkinkinkinkinkinkinkinkinkinkinkinkinkinkinkinkinkinkinkinkinkinkinkinkinkinkinkinkinkinkinkinkinkinkinkinkinkinkinkinkinkinkinkinkinkinkinkinkinkinkinkinkinkinkinkinkinkinkinkinkinkinkinkinkinkinkinkinkinkinkinkinkinkinkinkinkinkinkinkinkinkinkinkinkinkinkinkinkinkinkinkinkinkinkinkinkinkinkinkinkinkinkinkinkinkinkinkinkinkinkinkinkinkinkinkinkinkinkinkinkinkinkinkinkinkinkinkinkinkinkinkinkinkinkinkinkinkinkinkinkinkinkinkinkinkinkinkinkinkinkinkinkinkinkinkinkinkinkinkinkinkinkinkinkinkinkinkinkinkinkinkinkinkinkinkinkinkinkinkinkinkinkinkinkinkinkinkinkinkinkinkinkinkinkinkinkinkinkinkinkinkinkinkinkinkinkinkinkinkinkinkinkinkinkinkinkinkinkinkinkinkinkinkinkinkinkinkinkinkinkinkinkinkinkinkinkinkinkinkinkinkinkinkinkinkinkinkinkinkinkinkinkinkinkinkinkinkinkinkinkinkinkinkinkinkinkinkinkinkinkinkinkinkinkinkinkinkinkinkinkinkinkinkinkinkinkinkinkinkinkinkinkinkinkinkinkinkinkinkinkinkinkinkinkinkinkinkinkinkinkinkinkinkinkinkinkinkinkinkinkinkinkinkinkinkinkinkinkinkinkinkinkinkinkinkinkinkinkinkinkinkinkinkinkinkinkinkinkinkinkinkinkinkinkinkinkinkinkinkinkinkinkinkinkinkinkinkinkinkinkinkinkinkinkinkinkinkinkinkinkinkinkinkinkinkinkinkinkinkinkinkinkinkinkinkinkinkinkinkinkinkinkinkinkinkinkinkinkinkinkinkinkinkinkinkinkinkinkinkinkinkinkinkinkinkinkinkinkinkinkinkinkinkinkinkinkinkinkinkinkinkinkinkinkinkinkinkinkinkinkinkinkinkinkinkinkinkinkinkinkinkinkinkinkinkinkinkinkinkinkinkinkinkinkinkinkinkinkinkinkinkinkinkinkinkinkinkinkinkinkinkinkinkinkinkinkinkinkinkinkinkinkinkinkinkinkinkinkinkinkinkinkinkinkinkinkinkinkinkinkinkinkinkinkinkinkinkinkinkinkinkinkinkinkinkinkinkinkinkinkinkinkinkinkinkinkinkinkinkinkinkinkinkinkinkinkinkinkinkinkinkinkinkinkinkinkinkinkinkinkinkinkinkinkinkinkinkinkinkinkinkinkinkinkinkinkinkinkinkinkinkinkinkinkinkinkinkinkinkinkinkinkinkinkinkinkinkinkinkinkinkinkinkinkinkinkinkinkinkinkinkinkinkinkinkinkinkinkinkinkinkinkinkinkinkinkinkinkinkinkinkinkinkinkinkinkinkinkinkinkinkinkinkinkinkinkinkinkinkinkinkinkinkinkinkinkinkinkinkinkinkinkinkinkinkinkinkinkinkinkinkinkinkinkinkinkinkinkinkinkinkinkinkinkinkinkinkinkinkinkinkinkinkinkinkinkinkinkinkinkinkinkinkinkinkinkinkinkinkinkinkinkinkinkinkinkinkinkinkinkinkinkinkinkinkinkinkinkinkinkinkinkinkinkinkinkinkinkinkinkinkinkinkinkinkinkinkinkinkinkinkinkinkinkinkinkinkinkinkinkinkinkinkinkinkinkinkinkinkinkinkinkinkinkinkinkinkinkinkinkinkinkinkinkinkinkinkinkinkinkinkinkinkinkinkinkinkinkinkinkinkinkinkinkinkinkinkinkinkinkinkinkinkinkinkinkinkinkinkinkinkinkinkinkinkinkinkinkinkinkinkinkinkinkinkinkinkinkinkinkinkinkinkinkinkinkinkinkinkinkinkinkinkinkinkinkinkinkinkinkinkinkinkinkinkinkinkinkinkinkinkinkinkinkinkinkinkinkinkinkinkinkinkinkinkinkinkinkinkinkinkinkinkinkinkinkinkinkinkinkinkinkinkinkinkinkinkinkinkinkinkinkinkinkinkinkinkinkinkinkinkinkinkinkinkinkinkinkinkinkinkinkinkinkinkinkinkinkinkinkinkinkinkinkinkinkinkinkinkinkinkinkinkinkinkinkinkinkinkinkinkinkinkinkinkinkinkinkinkinkinkinkinkinkinkinkinkinkinkinkinkinkinkinkinkinkinkinkinkinkinkinkinkinkinkinkinkinkinkinkinkinkinkinkinkinkinkinkinkinkinkinkinkinkinkinkinkinkinkinkinkinkinkinkinkinkinkinkinkinkinkinkinkinkinkinkinkinkinkinkinkinkinkinkinkinkinkinkinkinkinkinkinkinkinkinkinkinkinkinkinkinkinkinkinkinkinkinkinkinkinkinkinkinkinkinkinkinkinkinkinkinkinkinkinkinkinkinkinkinkinkinkinkinkinkinkinkinkinkinkinkinkinkinkinkinkinkinkinkinkinkinkinkinkinkinkinkinkinkinkinkinkinkinkinkinkinkinkinkinkinkinkinkinkinkinkinkinkinkinkinkinkinkinkinkinkinkinkinkinkinkinkinkinkinkinkinkinkinkinkinkinkinkinkinkinkinkinkinkinkinkinkinkinkinkinkinkinkinkinkinkinkinkinkinkinkinkinkinkinkinkinkinkinkinkinkinkinkinkinkinkinkinkinkinkinkinkinkinkinkinkinkinkinkinkinkinkinkinkinkinkinkinkinkinkinkinkinkinkinkinkinkinkinkinkinkinkinkinkinkinkinkinkinkinkinkinkinkinkinkinkinkinkinkinkinkinkinkinkinkinkinkinkinkinkinkinkinkinkinkinkinkinkinkinkinkinkinkinkinkinkinkinkinkinkinkinkinkinkinkinkinkinkinkinkinkinkinkinkinkinkinkinkinkinkinkinkinkinkinkinkinkinkinkinkinkinkinkinkinkinkinkinkinkinkinkinkinkinkinkinkinkinkinkinkinkinkinkinkinkinkinkinkinkinkinkinkinkinkinkinkinkinkinkinkinkinkinkinkinkinkinkinkinkinkinkinkinkinkinkinkinkinkinkinkinkinkinkinkinkinkinkinkinkinkinkinkinkinkinkinkinkinkinkinkinkinkinkinkinkinkinkinkinkinkinkinkinkinkinkinkinkinkinkinkinkinkinkinkinkinkinkinkinkinkinkinkinkinkinkinkinkinkinkinkinkinkinkinkinkinkinkinkinkinkinkinkinkinkinkinkinkinkinkinkinkinkinkinkinkinkinkinkinkinkinkinkinkinkinkinkinkinkinkinkinkinkinkinkinkinkinkinkinkinkinkinkinkinkinkinkinkinkinkinkinkinkinkinkinkinkinkinkinkinkinkinkinkinkinkinkinkinkinkinkinkinkinkinkinkinkinkinkinkinkinkinkinkinkinkinkinkinkinkinkinkinkinkinkinkinkinkinkinkinkinkinkinkinkinkinkinkinkinkinkinkinkinkinkinkinkinkinkinkinkinkinkinkinkinkinkinkinkinkinkinkinkinkinkinkinkinkinkinkinkinkinkinkinkinkinkinkinkinkinkinkinkinkinkinkinkinkinkinkinkink<think DataGridViewCellStylethink<think DataGridViewCellStyle essay essay essay essayates essayates essay essay essay essay essay essay essay essayquate. essay essay essay essay essay essay essay essayates essay essayates essay essaythink<think DataGridViewCellStyle essayatesthink<think DataGridViewCellStyle essay essay essay essay essay essayates essay essay essay essay essay essay essay essay essay essay essay essay essayates essay essaythink<think DataGridViewCellStyle essay essaythink<think DataGridViewCellStyle essay essay essay essay essay essay essay essayates essay essay essaythink<think DataGridViewCellStyle essaythink<think DataGridViewCellStyle essay essay essay essaythink<think DataGridViewCellStyle essayates essay essay essay essay essay essay essay essay essay essayates essayates essay essay essaythinkinkWXYZ essaythink<think DataGridViewCellStyle essay essay essaythink<think DataGridViewCellStyle essayates essay essay essay essaythink<think DataGridViewCellStyle essay essay essay essay essay essay essay essay essay essay essay essay essay essaythink<think DataGridViewCellStyle essay essay essay essay essaythink<think DataGridViewCellStyle essay essay essayates essay essay essay essay essay essayates essay essaythink<think DataGridViewCellStyle essay essay essaythink<think DataGridViewCellStyle essayates essay essay essay essaythink<think DataGridViewCellStyle essayates essaythink<think DataGridViewCellStylethink<think DataGridViewCellStyle essayates essaythink<think DataGridViewCellStylethink<think DataGridViewCellStyle essay essay essay essaythink<think DataGridViewCellStyle essayates essay essay essaythink<think DataGridViewCellStyle essaythink<think DataGridViewCellStyle essay essay essayates essay essaythink<think DataGridViewCellStyle essay essay essaythink<think DataGridViewCellStyle essaythink<think DataGridViewCellStyle essay essay essay essay essayates essay essaythink<think DataGridViewCellStyle essayates essaythink<think DataGridViewCellStyle essaythink<think DataGridViewCellStyle essay essay essay essay essay essayates essay essay essay essaythink<think DataGridViewCellStyle essaythink<think DataGridViewCellStyle essaythink<think DataGridViewCellStyle essay essay essay essay essay essay essay essaythink<think DataGridViewCellStyle essaythink<think DataGridViewCellStyle essay essay essay essaythink<think DataGridViewCellStyle essay essay essaythink<think DataGridViewCellStyle essayates essay essaythink<think DataGridViewCellStyle essayates essayates essaythink<think DataGridViewCellStyle essay essayates essaythink<think DataGridViewCellStyle essay essay essaythink<think DataGridViewCellStylethink<think DataGridViewCellStyle essay essay essay essaythink<think DataGridViewCellStylethink<think DataGridViewCellStyle essay essay essay essaythink<think DataGridViewCellStyle essaythink<think DataGridViewCellStylethink<think DataGridViewCellStyle essay essayates essaythink<think DataGridViewCellStyle essay essay essay essaythink<think DataGridViewCellStyle essay essay essaythink<think DataGridViewCellStyle essay essay essay essay essaythink<think DataGridViewCellStyle essay essayates essay essaythink<think DataGridViewCellStyle essayatesthink<think DataGridViewCellStyle essay essay essay essay essay essay essaythink<think DataGridViewCellStylethink<think DataGridViewCellStyle essaythink<think DataGridViewCellStyle essay essay essay essay essaythink<think DataGridViewCellStyleates essayates essaythink<think DataGridViewCellStyle essay essay essayates essay essay essayates essaythink<think DataGridViewCellStyle essaythink<think DataGridViewCellStyle essay essaythink<think DataGridViewCellStyle essay essay essaythink<think DataGridViewCellStyle essay essay essay essaythink<think DataGridViewCellStyleatesthink<think DataGridViewCellStyle essay essay essay essay essaythink<think DataGridViewCellStyle essayatesthink<think DataGridViewCellStyle essaythink<think DataGridViewCellStyle essay essaythink<think DataGridViewCellStyleatesthink<think DataGridViewCellStyle essay essay essay essaythink<think DataGridViewCellStyleatesthink<think DataGridViewCellStyle essaythink<think DataGridViewCellStyle essayates essay essay essay essay essaythink<think DataGridViewCellStyle essay essay essayatesthink<think DataGridViewCellStyle essay essay essay essay essayates essaythink<think DataGridViewCellStyle essay essay essaythink<think DataGridViewCellStyle essayatesthink<think DataGridViewCellStyle essay essay essay essay essay essay essaythink<think DataGridViewCellStyleates essay essay essay essay essay essay essay essay essay essaythink<think DataGridViewCellStyle essayates essay essaythink<think DataGridViewCellStyle essay essay essay essay essay essaythink<think DataGridViewCellStyle essay essaythink<think DataGridViewCellStyle essay essay essay essaythink<think DataGridViewCellStyle essay essay essay essay essay essay essay essaythink<think DataGridViewCellStyle essaythink<think DataGridViewCellStyle essay essaythink<think DataGridViewCellStylethink<think DataGridViewCellStyle essay essaythink<think DataGridViewCellStyle essay essay essay essaythink<think DataGridViewCellStyleatesthink<think DataGridViewCellStyle essaythink<think DataGridViewCellStyle essaythink<think DataGridViewCellStyle essaythink<think DataGridViewCellStyle essayates essay essay essayates essaythink<think DataGridViewCellStyle essay essay essay essay essayates essay essay essay essay essay essay essay essay essaythink<think DataGridViewCellStyle essay essayates essay essaythink<think DataGridViewCellStyle essay essay essay essay essay essay essay essay essay essay essaythink<think DataGridViewCellStyle essay essayates essaythink<think DataGridViewCellStylethink<think DataGridViewCellStyle essay essaythink<think DataGridViewCellStyle essay essay essaythink<think DataGridViewCellStylethink<think DataGridViewCellStyle essay essay essay essay essay essay essaythink<think DataGridViewCellStyleates essay essay essay essay essaythink<think DataGridViewCellStyle essay essay essay essay essay essay essay essaythink<think DataGridViewCellStylethink<think DataGridViewCellStyle essay essaythink<think DataGridViewCellStyle essaythink<think DataGridViewCellStyle essay essay essaythink<think DataGridViewCellStyle essayates essay essaythink<think DataGridViewCellStyle essay essay essayates essayates essay essaythink<think DataGridViewCellStylethink<think DataGridViewCellStyle essay essay essay essay essayates essay essay essay essay essay essay essay essay essay essay essaythink<think DataGridViewCellStyleatesthink<think DataGridViewCellStyleates essay essay essaythink<think DataGridViewCellStyle essay essay essaythink<think DataGridViewCellStyle essay essaythink<think DataGridViewCellStyle essay essay essaythink<think DataGridViewCellStyle essay essay essay essay essay essaythink<think DataGridViewCellStyle essay essay essay essay essaythink<think DataGridViewCellStyle essay essay essaythink<think DataGridViewCellStyle essaythink<think DataGridViewCellStyleates essay essaythink<think DataGridViewCellStyle essaythink<think DataGridViewCellStylethink<think DataGridViewCellStylethink<think DataGridViewCellStyle essay essay essay essay essay essay essay essay essaythink<think DataGridViewCellStyle essaythink<think DataGridViewCellStyle essay essay essay essay essayates essay essay essaythink<think DataGridViewCellStyleates essaythink<think DataGridViewCellStyle essayates essay essay essaythink<think DataGridViewCellStyle essaythink<think DataGridViewCellStyle essay essay essay essayates essay essay essaythink<think DataGridViewCellStyle essayates essaythink<think DataGridViewCellStyle essaythink<think DataGridViewCellStylethink<think DataGridViewCellStyle essayates essay essayates essay essay essaythink<think DataGridViewCellStyle essay essaythink<think DataGridViewCellStyle essay essaythink<think DataGridViewCellStyle essay essay essaythink<think DataGridViewCellStyle essay essaythink<think DataGridViewCellStyle essaythink<think DataGridViewCellStyleates essay essaythink<think DataGridViewCellStyle essay essay essaythink<think DataGridViewCellStyle essay essaythink<think DataGridViewCellStyle essay essay essaythink<think DataGridViewCellStyle essay essay essayates essaythink<think DataGridViewCellStylethink<think DataGridViewCellStyle essayates essayates essay essaythink<think DataGridViewCellStyle essayates essay essaythink<think DataGridViewCellStyle essay essay essay essay essayates essay essay essay essaythink<think DataGridViewCellStyle essaythink<think DataGridViewCellStylethink<think DataGridViewCellStyle essay essay essaythink<think DataGridViewCellStyle essay essay essayatesthink<think DataGridViewCellStyle essaythink<think DataGridViewCellStyle essay essayates essaythink<think DataGridViewCellStyleatesthink<think DataGridViewCellStyle essaythink<think DataGridViewCellStyleatesclusionconconconconconconconconconcon'"
      ]
     },
     "execution_count": 32,
     "metadata": {},
     "output_type": "execute_result"
    }
   ],
   "source": [
    "import pandas as pd\n",
    "pd.read_csv('../../data/AES/fold0/val_dpo.csv')['reason'].iloc[3]"
   ]
  },
  {
   "cell_type": "code",
   "execution_count": null,
   "id": "62f23cb9-dad4-4a10-b60e-4c83230f11f8",
   "metadata": {},
   "outputs": [],
   "source": []
  }
 ],
 "metadata": {
  "kernelspec": {
   "display_name": "Python 3 (ipykernel)",
   "language": "python",
   "name": "python3"
  },
  "language_info": {
   "codemirror_mode": {
    "name": "ipython",
    "version": 3
   },
   "file_extension": ".py",
   "mimetype": "text/x-python",
   "name": "python",
   "nbconvert_exporter": "python",
   "pygments_lexer": "ipython3",
   "version": "3.10.13"
  }
 },
 "nbformat": 4,
 "nbformat_minor": 5
}
